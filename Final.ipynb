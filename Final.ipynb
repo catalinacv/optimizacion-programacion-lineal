{
 "cells": [
  {
   "cell_type": "code",
   "execution_count": 12,
   "metadata": {},
   "outputs": [],
   "source": [
    "#pip install docplex\n",
    "#Instalar en la terminal \n",
    "#pip install openpyxl\n",
    "#pip install cplex\n",
    "#pip install suds-py3"
   ]
  },
  {
   "cell_type": "code",
   "execution_count": 1,
   "metadata": {},
   "outputs": [],
   "source": [
    "# Importar librerías\n",
    "import pandas as pd\n",
    "import numpy as np\n",
    "from tkinter import *\n",
    "from tkinter import ttk\n",
    "from tkinter import simpledialog\n",
    "from docplex.mp.model import Model\n",
    "import cplex"
   ]
  },
  {
   "cell_type": "code",
   "execution_count": null,
   "metadata": {},
   "outputs": [],
   "source": [
    "# Importar base de datos\n",
    "bd = pd.read_excel(\"basedatoscelulares.xlsx\")\n",
    "print(bd) "
   ]
  },
  {
   "cell_type": "code",
   "execution_count": 4,
   "metadata": {},
   "outputs": [],
   "source": [
    "# Establecer presupuesto\n",
    "ppto = simpledialog.askfloat(title=\"Presupuesto\", prompt=\"Digite su presupuesto en pesos\")\n",
    "TRM = simpledialog.askfloat(title=\"TRM\", prompt=\"Digite la TRM actual\")"
   ]
  },
  {
   "cell_type": "code",
   "execution_count": 5,
   "metadata": {},
   "outputs": [],
   "source": [
    "#Inicializar el modelo\n",
    "m = Model(name=\"Optimización de compra de celulares\")"
   ]
  },
  {
   "cell_type": "code",
   "execution_count": 6,
   "metadata": {},
   "outputs": [],
   "source": [
    "#Añadir variables de decisión\n",
    "ref = bd[\"Ref\"]\n",
    "n = len(ref)\n",
    "variables = [m.integer_var(name=ref[i]) for i in range(n)]\n",
    "#print(variables)"
   ]
  },
  {
   "cell_type": "code",
   "execution_count": 7,
   "metadata": {},
   "outputs": [],
   "source": [
    "apple = []\n",
    "samg = []\n",
    "moto = []\n",
    "\n",
    "for i in range(n):\n",
    "    if variables[i].name == (\"i\"+str(i+1)):\n",
    "        apple.append(variables[i])\n",
    "    elif variables[i].name == (\"s\"+str(i+1)):\n",
    "        samg.append(variables[i])\n",
    "    else:\n",
    "        moto.append(variables[i])\n",
    "\n",
    "    "
   ]
  },
  {
   "cell_type": "code",
   "execution_count": 8,
   "metadata": {},
   "outputs": [],
   "source": [
    "#Constantes\n",
    "precioscompra = bd[\"PrecioUSD\"]*TRM\n",
    "preciosventa = bd[\"PrecioVenta\"]\n",
    "Costo = 25*TRM"
   ]
  },
  {
   "cell_type": "code",
   "execution_count": 9,
   "metadata": {},
   "outputs": [],
   "source": [
    "#Añadir las restricciones\n",
    "\n",
    "compra = np.dot(variables,precioscompra)\n",
    "r1 = m.add_constraint(compra <= ppto)\n",
    "if ppto > 3500000:\n",
    "    r1 = m.add_constraint(sum(apple) >= 1)\n",
    "    r2 = m.add_constraint(sum(samg) >= 1)\n",
    "    r3 = m.add_constraint(sum(moto) >= 1)\n",
    "for i in range(n):\n",
    "    m.add_constraint(variables[i]<= 5)\n",
    "\n"
   ]
  },
  {
   "cell_type": "code",
   "execution_count": 10,
   "metadata": {},
   "outputs": [],
   "source": [
    "#FUNCIÓN OBJETIVO\n",
    "#Maximizar las ganancias\n",
    "m.maximize(np.dot(variables,preciosventa) - np.dot(variables,precioscompra))"
   ]
  },
  {
   "cell_type": "code",
   "execution_count": 11,
   "metadata": {},
   "outputs": [],
   "source": [
    "#Solución\n",
    "solucion = m.solve()"
   ]
  },
  {
   "cell_type": "code",
   "execution_count": 12,
   "metadata": {},
   "outputs": [],
   "source": [
    "nombrevar = []\n",
    "numvariables = []\n",
    "for v in m.iter_integer_vars():\n",
    "  numvariables.append(v.solution_value)\n",
    "  nombrevar.append(v.name)\n",
    "\n",
    "bd.insert(2,\"CantidadOptima\", numvariables)"
   ]
  },
  {
   "cell_type": "code",
   "execution_count": 13,
   "metadata": {},
   "outputs": [],
   "source": [
    "#Calcular impuestos de la Aduana\n",
    "\n",
    "PreciosUSD = bd[[\"PrecioUSD\",\"CantidadOptima\"]]\n",
    "PreciosUSD.insert(2,\"PrecioCompra\",precioscompra)\n",
    "n2 = len(PreciosUSD)\n",
    "impuestos=[]\n",
    "\n",
    "for j in range(n2):\n",
    "    if PreciosUSD.CantidadOptima[j] != 0:\n",
    "        if PreciosUSD.PrecioUSD[j] <= 200:\n",
    "            impuestos.append(PreciosUSD.PrecioUSD[j]*0.2*PreciosUSD.CantidadOptima[j]*TRM)\n",
    "        else:\n",
    "            impuestos.append(PreciosUSD.PrecioUSD[j]*0.29*PreciosUSD.CantidadOptima[j]*TRM)\n",
    "   \n",
    "\n",
    "Impuesto = sum(impuestos)\n",
    "#print(Impuesto)"
   ]
  },
  {
   "cell_type": "code",
   "execution_count": null,
   "metadata": {},
   "outputs": [],
   "source": [
    "#Ganancia total\n",
    "#print(solucion.objective_value)\n",
    "Ganancia = solucion.objective_value - sum(np.multiply(numvariables,Costo)) - Impuesto\n",
    "Ganancia = \"{:,}\".format(round(Ganancia,2)).replace(',','~').replace('.',',').replace('~','.')\n",
    "print(\"La Ganancia es = \",Ganancia)\n",
    "bdfinal = bd[(bd.CantidadOptima!=0)]\n",
    "bdfinal[[\"Ref\",\"CantidadOptima\",\"Celular\"]]\n",
    "\n"
   ]
  }
 ],
 "metadata": {
  "interpreter": {
   "hash": "29ac4b5adcb7cc205ba4853c7914c8793fad32aa13f73b71b6552a948898a2ba"
  },
  "kernelspec": {
   "display_name": "Python 3.10.4 64-bit",
   "language": "python",
   "name": "python3"
  },
  "language_info": {
   "codemirror_mode": {
    "name": "ipython",
    "version": 3
   },
   "file_extension": ".py",
   "mimetype": "text/x-python",
   "name": "python",
   "nbconvert_exporter": "python",
   "pygments_lexer": "ipython3",
   "version": "3.10.4"
  },
  "orig_nbformat": 4
 },
 "nbformat": 4,
 "nbformat_minor": 2
}
